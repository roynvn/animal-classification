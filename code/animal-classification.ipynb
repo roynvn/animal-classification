{
  "nbformat": 4,
  "nbformat_minor": 0,
  "metadata": {
    "colab": {
      "name": "Subsmission Deployment.ipynb",
      "provenance": [],
      "collapsed_sections": []
    },
    "kernelspec": {
      "name": "python3",
      "display_name": "Python 3"
    },
    "language_info": {
      "name": "python"
    }
  },
  "cells": [
    {
      "cell_type": "markdown",
      "metadata": {
        "id": "jD2m9acg4l_N"
      },
      "source": [
        "Roy Noviantho \n",
        "\n",
        "---\n",
        "\n",
        "\n",
        "Fresh Graduate Academy (FGA) \n",
        "\n",
        "---\n",
        "\n",
        "\n",
        "Machine Learning\n",
        "\n",
        "---\n",
        "\n",
        "\n",
        "Machine Learning - IBM\n",
        "\n",
        "---\n",
        "\n",
        "\n",
        "No. Registrasi : 0182180141-83"
      ]
    },
    {
      "cell_type": "markdown",
      "metadata": {
        "id": "_DHFW-fs5TFL"
      },
      "source": [
        "KAGGLE"
      ]
    },
    {
      "cell_type": "code",
      "metadata": {
        "id": "boaihH8V4iEp"
      },
      "source": [
        "from google.colab import files\n",
        "!pip install -q kaggle"
      ],
      "execution_count": 1,
      "outputs": []
    },
    {
      "cell_type": "code",
      "metadata": {
        "colab": {
          "resources": {
            "http://localhost:8080/nbextensions/google.colab/files.js": {
              "data": "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",
              "ok": true,
              "headers": [
                [
                  "content-type",
                  "application/javascript"
                ]
              ],
              "status": 200,
              "status_text": ""
            }
          },
          "base_uri": "https://localhost:8080/",
          "height": 72
        },
        "id": "eQTOKasj5UUE",
        "outputId": "83950a77-2d2e-482a-a308-3fba0bea7d48"
      },
      "source": [
        "#upload api key\n",
        "uploaded = files.upload()"
      ],
      "execution_count": 2,
      "outputs": [
        {
          "output_type": "display_data",
          "data": {
            "text/html": [
              "\n",
              "     <input type=\"file\" id=\"files-c4d20a78-f6bd-4edc-849c-e1b4553c74b5\" name=\"files[]\" multiple disabled\n",
              "        style=\"border:none\" />\n",
              "     <output id=\"result-c4d20a78-f6bd-4edc-849c-e1b4553c74b5\">\n",
              "      Upload widget is only available when the cell has been executed in the\n",
              "      current browser session. Please rerun this cell to enable.\n",
              "      </output>\n",
              "      <script src=\"/nbextensions/google.colab/files.js\"></script> "
            ],
            "text/plain": [
              "<IPython.core.display.HTML object>"
            ]
          },
          "metadata": {
            "tags": []
          }
        },
        {
          "output_type": "stream",
          "text": [
            "Saving kaggle.json to kaggle.json\n"
          ],
          "name": "stdout"
        }
      ]
    },
    {
      "cell_type": "code",
      "metadata": {
        "id": "qhh8EmxN5ZFv"
      },
      "source": [
        "! mkdir ~/.kaggle/\n",
        "! cp kaggle.json ~/.kaggle/\n",
        "! chmod 600 ~/.kaggle/kaggle.json"
      ],
      "execution_count": 3,
      "outputs": []
    },
    {
      "cell_type": "code",
      "metadata": {
        "colab": {
          "base_uri": "https://localhost:8080/"
        },
        "id": "HvUBsBbm5ZKu",
        "outputId": "1678caeb-9b01-4af0-f8bd-39b757585790"
      },
      "source": [
        "! kaggle datasets download -d viratkothari/animal10"
      ],
      "execution_count": 4,
      "outputs": [
        {
          "output_type": "stream",
          "text": [
            "Downloading animal10.zip to /content\n",
            " 97% 568M/585M [00:05<00:00, 153MB/s]\n",
            "100% 585M/585M [00:05<00:00, 111MB/s]\n"
          ],
          "name": "stdout"
        }
      ]
    },
    {
      "cell_type": "code",
      "metadata": {
        "id": "IsetRWQw99_A"
      },
      "source": [
        "#import all \n",
        "import tensorflow as tf\n",
        "import shutil\n",
        "from sklearn.model_selection import train_test_split\n",
        "from tensorflow.keras.preprocessing.image import ImageDataGenerator\n",
        "import zipfile,os\n",
        "import numpy as np\n",
        "from google.colab import files\n",
        "from keras.preprocessing import image\n",
        "import matplotlib.pyplot as plt\n",
        "import matplotlib.image as mpimg"
      ],
      "execution_count": 7,
      "outputs": []
    },
    {
      "cell_type": "code",
      "metadata": {
        "id": "30pyOMB65ZPH"
      },
      "source": [
        "#ekstrasi file zip\n",
        "local_zip = '/content/animal10.zip'\n",
        "zip_ref = zipfile.ZipFile(local_zip,'r')\n",
        "zip_ref.extractall('/tmp')\n",
        "zip_ref.close()"
      ],
      "execution_count": 8,
      "outputs": []
    },
    {
      "cell_type": "markdown",
      "metadata": {
        "id": "n4Fc0fF9-mpK"
      },
      "source": [
        "DATASET CONF"
      ]
    },
    {
      "cell_type": "code",
      "metadata": {
        "colab": {
          "base_uri": "https://localhost:8080/"
        },
        "id": "c3Z2_eyl94Sn",
        "outputId": "acf53929-143b-45b2-c016-35153e29c3b4"
      },
      "source": [
        "folder_path = '/tmp/Animals-10'\n",
        "print(\"Isi folder awal: \",os.listdir(folder_path))\n",
        "#menghapus folder yang tidak digunakan\n",
        "del_folder = ['elephant','sheep','squirrel','cat','chicken','horse','cow']\n",
        "for enum in del_folder:\n",
        "  shutil.rmtree(folder_path+\"/\"+enum)\n",
        "print(\"Isi folder sekarang: \",os.listdir(folder_path))"
      ],
      "execution_count": 18,
      "outputs": [
        {
          "output_type": "stream",
          "text": [
            "Isi folder awal:  ['elephant', 'sheep', 'dog', 'squirrel', 'cat', 'butterfly', 'chicken', 'horse', 'cow', 'spider']\n",
            "Isi folder sekarang:  ['dog', 'butterfly', 'spider']\n"
          ],
          "name": "stdout"
        }
      ]
    },
    {
      "cell_type": "code",
      "metadata": {
        "colab": {
          "base_uri": "https://localhost:8080/"
        },
        "id": "lfzeefBZ-yGN",
        "outputId": "158ce791-a610-4523-f62c-8127e5886ef8"
      },
      "source": [
        "dog_data = os.listdir(\"/tmp/Animals-10/dog\")\n",
        "print(\"Total Gambar Anjing: \", len(dog_data))\n",
        "butterfly_data = os.listdir(\"/tmp/Animals-10/butterfly\")\n",
        "print(\"Total Gambar Kupu-Kupu: \", len(butterfly_data))\n",
        "spider_data = os.listdir(\"/tmp/Animals-10/spider\")\n",
        "print(\"Total Gambar Laba-laba:\", len(spider_data))\n",
        "\n",
        "#definisi lokasi masing-masing data\n",
        "dog_dir          = os.path.join(folder_path,\"dog\")\n",
        "butterfly_dir    = os.path.join(folder_path,\"butterfly\")\n",
        "spider_dir       = os.path.join(folder_path,\"spider\")\n",
        "train_dir        = os.path.join(folder_path,\"train\")\n",
        "validation_dir   = os.path.join(folder_path,\"val\")"
      ],
      "execution_count": 23,
      "outputs": [
        {
          "output_type": "stream",
          "text": [
            "Total Gambar Anjing:  4863\n",
            "Total Gambar Kupu-Kupu:  2112\n",
            "Total Gambar Laba-laba: 4821\n"
          ],
          "name": "stdout"
        }
      ]
    },
    {
      "cell_type": "code",
      "metadata": {
        "id": "DBl6Ie0DBHbW"
      },
      "source": [
        "#membuat folder menyimpan data train dan va\n",
        "if not os.path.exists(train_dir):\n",
        "  os.mkdir(train_dir)\n",
        "if not os.path.exists(validation_dir):\n",
        "  os.mkdir(validation_dir)"
      ],
      "execution_count": 26,
      "outputs": []
    },
    {
      "cell_type": "code",
      "metadata": {
        "colab": {
          "base_uri": "https://localhost:8080/"
        },
        "id": "wG1D7G9BC42g",
        "outputId": "7aabb15d-c055-4c5f-df98-b93f65c55b6e"
      },
      "source": [
        "#split data setiap kategori\n",
        "train_dog, val_dog                = train_test_split(os.listdir(dog_dir),test_size=0.2)\n",
        "print('Jumlah Train Anjing  :' , len(train_dog))\n",
        "print('Jumlah Val Anjing    :' , len(val_dog))\n",
        "train_butterfly, val_butterfly    = train_test_split(os.listdir(butterfly_dir),test_size=0.2)\n",
        "print('Jumlah Train Kupu-Kupu  :' , len(train_butterfly))\n",
        "print('Jumlah Val Kupu-Kupu    :' , len(val_butterfly))\n",
        "train_spider, val_spider    = train_test_split(os.listdir(spider_dir),test_size=0.2)\n",
        "print('Jumlah Train Laba-Laba  :' , len(train_spider))\n",
        "print('Jumlah Val Laba-Laba    :' , len(val_spider))"
      ],
      "execution_count": 25,
      "outputs": [
        {
          "output_type": "stream",
          "text": [
            "Jumlah Train Anjing  : 3890\n",
            "Jumlah Val Anjing    : 973\n",
            "Jumlah Train Kupu-Kupu  : 1689\n",
            "Jumlah Val Kupu-Kupu    : 423\n",
            "Jumlah Train Laba-Laba  : 3856\n",
            "Jumlah Val Laba-Laba    : 965\n"
          ],
          "name": "stdout"
        }
      ]
    },
    {
      "cell_type": "code",
      "metadata": {
        "id": "_7i9tT5KDwjQ"
      },
      "source": [
        "#membuat folder dalam data train dan val untuks setiap kategori \n",
        "dir_train_dog        = os.path.join(train_dir,\"dog\")\n",
        "dir_train_butterfly  = os.path.join(train_dir,\"butterfly\")\n",
        "dir_train_spider     = os.path.join(train_dir,\"spider\")\n",
        "\n",
        "dir_val_dog          = os.path.join(validation_dir,\"dog\")\n",
        "dir_val_butterfly    = os.path.join(validation_dir,\"butterfly\")\n",
        "dir_val_spider       = os.path.join(validation_dir,\"spider\")\n",
        "\n",
        "if not os.path.exists(dir_train_dog):\n",
        "  os.mkdir(dir_train_dog)\n",
        "if not os.path.exists(dir_train_butterfly):\n",
        "  os.mkdir(dir_train_butterfly)\n",
        "if not os.path.exists(dir_train_spider):\n",
        "  os.mkdir(dir_train_spider)\n",
        "\n",
        "if not os.path.exists(dir_val_dog):\n",
        "  os.mkdir(dir_val_dog)\n",
        "if not os.path.exists(dir_val_butterfly):\n",
        "  os.mkdir(dir_val_butterfly)\n",
        "if not os.path.exists(dir_val_spider):\n",
        "  os.mkdir(dir_val_spider)"
      ],
      "execution_count": 27,
      "outputs": []
    },
    {
      "cell_type": "code",
      "metadata": {
        "id": "bRjZlj9tENlZ"
      },
      "source": [
        "#copy data hasil split ke dalam setiap folder data train dan test sesuai masing-masing kategori\n",
        "for data in train_dog:\n",
        "  shutil.copy(os.path.join(dog_dir,data), os.path.join(dir_train_dog,data))\n",
        "for data in train_butterfly:\n",
        "  shutil.copy(os.path.join(butterfly_dir,data), os.path.join(dir_train_butterfly,data))\n",
        "for data in train_spider:\n",
        "  shutil.copy(os.path.join(spider_dir,data), os.path.join(dir_train_spider,data))\n",
        "\n",
        "for data in val_dog:\n",
        "  shutil.copy(os.path.join(dog_dir,data), os.path.join(dir_val_dog, data))\n",
        "for data in val_butterfly:\n",
        "  shutil.copy(os.path.join(butterfly_dir,data), os.path.join(dir_val_butterfly, data))\n",
        "for data in val_spider:\n",
        "  shutil.copy(os.path.join(spider_dir,data), os.path.join(dir_val_spider, data))"
      ],
      "execution_count": 28,
      "outputs": []
    },
    {
      "cell_type": "code",
      "metadata": {
        "colab": {
          "base_uri": "https://localhost:8080/"
        },
        "id": "ZwCTXqphEIPf",
        "outputId": "07b5a221-b326-4c36-f4b7-fa24ed33afb5"
      },
      "source": [
        "#data generator\n",
        "\n",
        "train_datagen = ImageDataGenerator(\n",
        "                                    rescale         = 1./255,\n",
        "                                    rotation_range  = 20,\n",
        "                                    horizontal_flip = True,\n",
        "                                    shear_range     = 0.2,\n",
        "                                    fill_mode       = 'nearest'\n",
        "                                  )\n",
        "\n",
        "val_datagen = ImageDataGenerator(\n",
        "                                    rescale         = 1./255,\n",
        "                                    rotation_range  = 20,\n",
        "                                    horizontal_flip = True,\n",
        "                                    shear_range     = 0.2,\n",
        "                                    fill_mode       = 'nearest'\n",
        "                                  )\n",
        "train_generator = train_datagen.flow_from_directory(\n",
        "                                                    train_dir,\n",
        "                                                    target_size = (150,150),\n",
        "                                                    batch_size  = 64,\n",
        "                                                    class_mode  = 'categorical'\n",
        "                                                  )\n",
        "validation_generator = val_datagen.flow_from_directory(\n",
        "                                                    validation_dir,\n",
        "                                                    target_size = (150,150),\n",
        "                                                    batch_size  = 64,\n",
        "                                                    class_mode  = 'categorical'\n",
        "                                                  )"
      ],
      "execution_count": 49,
      "outputs": [
        {
          "output_type": "stream",
          "text": [
            "Found 9435 images belonging to 3 classes.\n",
            "Found 2361 images belonging to 3 classes.\n"
          ],
          "name": "stdout"
        }
      ]
    },
    {
      "cell_type": "code",
      "metadata": {
        "id": "B2DQ_dHQGoch"
      },
      "source": [
        "class myCallback(tf.keras.callbacks.Callback):\n",
        "  def on_epoch_end(self, epoch, logs={}):\n",
        "    if(logs.get('accuracy')>0.92 and logs.get('val_accuracy')>0.92 ):\n",
        "      print(\"\\nAkurasi telah mencapai >92%!\")\n",
        "      self.model.stop_training = True\n",
        "callbacks = myCallback()"
      ],
      "execution_count": 42,
      "outputs": []
    },
    {
      "cell_type": "code",
      "metadata": {
        "id": "cLNCic00EIBR"
      },
      "source": [
        "#menggunakan empat konvulusi\n",
        "model = tf.keras.models.Sequential([\n",
        "                                    #konv pertama atau input\n",
        "                                    tf.keras.layers.Conv2D(64,(3,3),activation='relu', input_shape=(150,150,3)),\n",
        "                                    tf.keras.layers.MaxPooling2D(2,2),\n",
        "                                    #konv kedua\n",
        "                                    tf.keras.layers.Conv2D(64,(3,3),activation='relu'),\n",
        "                                    tf.keras.layers.MaxPooling2D(2,2),\n",
        "                                    #konv ketiga\n",
        "                                    tf.keras.layers.Conv2D(128,(3,3),activation='relu'),\n",
        "                                    tf.keras.layers.MaxPooling2D(2,2),\n",
        "                                    #konv keempat\n",
        "                                    tf.keras.layers.Conv2D(128,(3,3),activation='relu'),\n",
        "                                    tf.keras.layers.MaxPooling2D(2,2),\n",
        "                                    #ouput\n",
        "                                    tf.keras.layers.Flatten(),\n",
        "                                    tf.keras.layers.Dropout(0.5),\n",
        "                                    tf.keras.layers.Dense(512, activation='relu'),\n",
        "                                    tf.keras.layers.Dense(3, activation='softmax')\n",
        "                                  ])\n"
      ],
      "execution_count": 50,
      "outputs": []
    },
    {
      "cell_type": "code",
      "metadata": {
        "colab": {
          "base_uri": "https://localhost:8080/"
        },
        "id": "ta9Zu0GuHCkX",
        "outputId": "f9974311-fa48-46a2-a952-8fcde2120497"
      },
      "source": [
        "#compile model dengan 'adam' optimizer loss function categorical_crossentropy\n",
        "model.compile(loss='categorical_crossentropy',\n",
        "              optimizer = tf.optimizers.Adam(),\n",
        "              metrics = ['accuracy']\n",
        "             )\n",
        "history = model.fit(\n",
        "                  train_generator,\n",
        "                  steps_per_epoch = 25,\n",
        "                  epochs = 50,\n",
        "                  validation_data = validation_generator,\n",
        "                  validation_steps = 5,\n",
        "                  batch_size=64,\n",
        "                  verbose = 2,\n",
        "                  callbacks = [callbacks]\n",
        "                )"
      ],
      "execution_count": 51,
      "outputs": [
        {
          "output_type": "stream",
          "text": [
            "Epoch 1/50\n",
            "25/25 - 111s - loss: 1.0634 - accuracy: 0.4094 - val_loss: 1.0112 - val_accuracy: 0.4625\n",
            "Epoch 2/50\n",
            "25/25 - 109s - loss: 0.9364 - accuracy: 0.5256 - val_loss: 0.8982 - val_accuracy: 0.5312\n",
            "Epoch 3/50\n",
            "25/25 - 106s - loss: 0.7887 - accuracy: 0.6520 - val_loss: 0.7200 - val_accuracy: 0.6781\n",
            "Epoch 4/50\n",
            "25/25 - 110s - loss: 0.7296 - accuracy: 0.6631 - val_loss: 0.6376 - val_accuracy: 0.7531\n",
            "Epoch 5/50\n",
            "25/25 - 107s - loss: 0.7089 - accuracy: 0.6859 - val_loss: 0.5854 - val_accuracy: 0.7688\n",
            "Epoch 6/50\n",
            "25/25 - 109s - loss: 0.6245 - accuracy: 0.7356 - val_loss: 0.6371 - val_accuracy: 0.7406\n",
            "Epoch 7/50\n",
            "25/25 - 107s - loss: 0.6257 - accuracy: 0.7441 - val_loss: 0.6405 - val_accuracy: 0.7500\n",
            "Epoch 8/50\n",
            "25/25 - 109s - loss: 0.5998 - accuracy: 0.7531 - val_loss: 0.6519 - val_accuracy: 0.7125\n",
            "Epoch 9/50\n",
            "25/25 - 109s - loss: 0.5682 - accuracy: 0.7844 - val_loss: 0.5437 - val_accuracy: 0.7844\n",
            "Epoch 10/50\n",
            "25/25 - 109s - loss: 0.5098 - accuracy: 0.7994 - val_loss: 0.6294 - val_accuracy: 0.7219\n",
            "Epoch 11/50\n",
            "25/25 - 111s - loss: 0.5262 - accuracy: 0.7894 - val_loss: 0.4334 - val_accuracy: 0.8500\n",
            "Epoch 12/50\n",
            "25/25 - 112s - loss: 0.5234 - accuracy: 0.7914 - val_loss: 0.5845 - val_accuracy: 0.7625\n",
            "Epoch 13/50\n",
            "25/25 - 115s - loss: 0.4778 - accuracy: 0.8175 - val_loss: 0.4703 - val_accuracy: 0.8375\n",
            "Epoch 14/50\n",
            "25/25 - 116s - loss: 0.4888 - accuracy: 0.8150 - val_loss: 0.4819 - val_accuracy: 0.8062\n",
            "Epoch 15/50\n",
            "25/25 - 114s - loss: 0.4474 - accuracy: 0.8209 - val_loss: 0.4812 - val_accuracy: 0.8313\n",
            "Epoch 16/50\n",
            "25/25 - 116s - loss: 0.4566 - accuracy: 0.8219 - val_loss: 0.3993 - val_accuracy: 0.8469\n",
            "Epoch 17/50\n",
            "25/25 - 117s - loss: 0.3951 - accuracy: 0.8444 - val_loss: 0.3599 - val_accuracy: 0.8719\n",
            "Epoch 18/50\n",
            "25/25 - 115s - loss: 0.4417 - accuracy: 0.8325 - val_loss: 0.4012 - val_accuracy: 0.8438\n",
            "Epoch 19/50\n",
            "25/25 - 111s - loss: 0.3953 - accuracy: 0.8560 - val_loss: 0.4072 - val_accuracy: 0.8562\n",
            "Epoch 20/50\n",
            "25/25 - 112s - loss: 0.4108 - accuracy: 0.8458 - val_loss: 0.3486 - val_accuracy: 0.8625\n",
            "Epoch 21/50\n",
            "25/25 - 116s - loss: 0.4611 - accuracy: 0.8156 - val_loss: 0.4019 - val_accuracy: 0.8375\n",
            "Epoch 22/50\n",
            "25/25 - 115s - loss: 0.4042 - accuracy: 0.8400 - val_loss: 0.3806 - val_accuracy: 0.8500\n",
            "Epoch 23/50\n",
            "25/25 - 115s - loss: 0.4178 - accuracy: 0.8400 - val_loss: 0.3339 - val_accuracy: 0.8750\n",
            "Epoch 24/50\n",
            "25/25 - 113s - loss: 0.4111 - accuracy: 0.8500 - val_loss: 0.3805 - val_accuracy: 0.8531\n",
            "Epoch 25/50\n",
            "25/25 - 113s - loss: 0.3931 - accuracy: 0.8458 - val_loss: 0.4351 - val_accuracy: 0.8313\n",
            "Epoch 26/50\n",
            "25/25 - 117s - loss: 0.3694 - accuracy: 0.8575 - val_loss: 0.2973 - val_accuracy: 0.8781\n",
            "Epoch 27/50\n",
            "25/25 - 116s - loss: 0.3630 - accuracy: 0.8737 - val_loss: 0.3397 - val_accuracy: 0.8875\n",
            "Epoch 28/50\n",
            "25/25 - 115s - loss: 0.3253 - accuracy: 0.8731 - val_loss: 0.3967 - val_accuracy: 0.8500\n",
            "Epoch 29/50\n",
            "25/25 - 114s - loss: 0.3760 - accuracy: 0.8556 - val_loss: 0.3401 - val_accuracy: 0.8687\n",
            "Epoch 30/50\n",
            "25/25 - 115s - loss: 0.3564 - accuracy: 0.8637 - val_loss: 0.3854 - val_accuracy: 0.8438\n",
            "Epoch 31/50\n",
            "25/25 - 115s - loss: 0.3435 - accuracy: 0.8731 - val_loss: 0.4219 - val_accuracy: 0.8375\n",
            "Epoch 32/50\n",
            "25/25 - 111s - loss: 0.3297 - accuracy: 0.8778 - val_loss: 0.4022 - val_accuracy: 0.8500\n",
            "Epoch 33/50\n",
            "25/25 - 115s - loss: 0.3385 - accuracy: 0.8731 - val_loss: 0.3602 - val_accuracy: 0.8687\n",
            "Epoch 34/50\n",
            "25/25 - 113s - loss: 0.3363 - accuracy: 0.8719 - val_loss: 0.3213 - val_accuracy: 0.8750\n",
            "Epoch 35/50\n",
            "25/25 - 114s - loss: 0.3098 - accuracy: 0.8763 - val_loss: 0.2949 - val_accuracy: 0.9125\n",
            "Epoch 36/50\n",
            "25/25 - 111s - loss: 0.2967 - accuracy: 0.8869 - val_loss: 0.2840 - val_accuracy: 0.8750\n",
            "Epoch 37/50\n",
            "25/25 - 108s - loss: 0.3466 - accuracy: 0.8656 - val_loss: 0.3713 - val_accuracy: 0.8438\n",
            "Epoch 38/50\n",
            "25/25 - 107s - loss: 0.3215 - accuracy: 0.8775 - val_loss: 0.3280 - val_accuracy: 0.8781\n",
            "Epoch 39/50\n",
            "25/25 - 107s - loss: 0.3260 - accuracy: 0.8788 - val_loss: 0.3257 - val_accuracy: 0.8813\n",
            "Epoch 40/50\n",
            "25/25 - 108s - loss: 0.2676 - accuracy: 0.9062 - val_loss: 0.2708 - val_accuracy: 0.8969\n",
            "Epoch 41/50\n",
            "25/25 - 108s - loss: 0.2646 - accuracy: 0.9019 - val_loss: 0.3133 - val_accuracy: 0.8938\n",
            "Epoch 42/50\n",
            "25/25 - 108s - loss: 0.3069 - accuracy: 0.8788 - val_loss: 0.2496 - val_accuracy: 0.9031\n",
            "Epoch 43/50\n",
            "25/25 - 108s - loss: 0.2795 - accuracy: 0.9000 - val_loss: 0.2513 - val_accuracy: 0.9125\n",
            "Epoch 44/50\n",
            "25/25 - 108s - loss: 0.2598 - accuracy: 0.9013 - val_loss: 0.2990 - val_accuracy: 0.8781\n",
            "Epoch 45/50\n",
            "25/25 - 107s - loss: 0.2936 - accuracy: 0.8931 - val_loss: 0.2574 - val_accuracy: 0.9094\n",
            "Epoch 46/50\n",
            "25/25 - 105s - loss: 0.2799 - accuracy: 0.8964 - val_loss: 0.3041 - val_accuracy: 0.8938\n",
            "Epoch 47/50\n",
            "25/25 - 110s - loss: 0.2903 - accuracy: 0.8944 - val_loss: 0.3511 - val_accuracy: 0.8562\n",
            "Epoch 48/50\n",
            "25/25 - 107s - loss: 0.2728 - accuracy: 0.8964 - val_loss: 0.2618 - val_accuracy: 0.9000\n",
            "Epoch 49/50\n",
            "25/25 - 108s - loss: 0.2866 - accuracy: 0.8932 - val_loss: 0.3136 - val_accuracy: 0.8938\n",
            "Epoch 50/50\n",
            "25/25 - 110s - loss: 0.3017 - accuracy: 0.8963 - val_loss: 0.4064 - val_accuracy: 0.8500\n"
          ],
          "name": "stdout"
        }
      ]
    },
    {
      "cell_type": "code",
      "metadata": {
        "colab": {
          "base_uri": "https://localhost:8080/",
          "height": 295
        },
        "id": "esrL1MtKGWSF",
        "outputId": "78db65f4-6f8a-4479-d055-b6ec94493a56"
      },
      "source": [
        "plt.plot(history.history['accuracy'])\n",
        "plt.plot(history.history['val_accuracy'])\n",
        "plt.title('Model Accuracy')\n",
        "plt.ylabel('accuracy')\n",
        "plt.xlabel('epoch')\n",
        "plt.legend(['train', 'test'], loc='upper left')\n",
        "plt.show()"
      ],
      "execution_count": 55,
      "outputs": [
        {
          "output_type": "display_data",
          "data": {
            "image/png": "[encoded data removed]",
            "text/plain": [
              "<Figure size 432x288 with 1 Axes>"
            ]
          },
          "metadata": {
            "tags": [],
            "needs_background": "light"
          }
        }
      ]
    },
    {
      "cell_type": "code",
      "metadata": {
        "colab": {
          "base_uri": "https://localhost:8080/",
          "height": 295
        },
        "id": "OHI98D4wqzCu",
        "outputId": "a3f3cd40-71cf-4223-d4e9-144a740d67dd"
      },
      "source": [
        "plt.plot(history.history['loss'])\n",
        "plt.plot(history.history['val_loss'])\n",
        "plt.title('Model Loss')\n",
        "plt.ylabel('loss')\n",
        "plt.xlabel('epoch')\n",
        "plt.legend(['train', 'test'], loc='upper left')\n",
        "plt.show()"
      ],
      "execution_count": 56,
      "outputs": [
        {
          "output_type": "display_data",
          "data": {
            "image/png": "[encoded data removed]",
            "text/plain": [
              "<Figure size 432x288 with 1 Axes>"
            ]
          },
          "metadata": {
            "tags": [],
            "needs_background": "light"
          }
        }
      ]
    },
    {
      "cell_type": "code",
      "metadata": {
        "colab": {
          "base_uri": "https://localhost:8080/"
        },
        "id": "ilQNEKvwq4G9",
        "outputId": "5a733d1e-0e5b-4e58-b192-a54a21067c6b"
      },
      "source": [
        "converter = tf.lite.TFLiteConverter.from_keras_model(model)\n",
        "tflite_model = converter.convert()\n",
        "\n",
        "with tf.io.gfile.GFile('model.tflite', 'wb') as f:\n",
        "  f.write(tflite_model)"
      ],
      "execution_count": 57,
      "outputs": [
        {
          "output_type": "stream",
          "text": [
            "INFO:tensorflow:Assets written to: /tmp/tmpw55aln0n/assets\n"
          ],
          "name": "stdout"
        }
      ]
    }
  ]
}